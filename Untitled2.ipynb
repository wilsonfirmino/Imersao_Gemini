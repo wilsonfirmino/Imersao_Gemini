{
  "nbformat": 4,
  "nbformat_minor": 0,
  "metadata": {
    "colab": {
      "provenance": [],
      "authorship_tag": "ABX9TyO6xrJmw0L6+0f/oMcVAxpa",
      "include_colab_link": true
    },
    "kernelspec": {
      "name": "python3",
      "display_name": "Python 3"
    },
    "language_info": {
      "name": "python"
    }
  },
  "cells": [
    {
      "cell_type": "markdown",
      "metadata": {
        "id": "view-in-github",
        "colab_type": "text"
      },
      "source": [
        "<a href=\"https://colab.research.google.com/github/wilsonfirmino/Imersao_Gemini/blob/main/Untitled2.ipynb\" target=\"_parent\"><img src=\"https://colab.research.google.com/assets/colab-badge.svg\" alt=\"Open In Colab\"/></a>"
      ]
    },
    {
      "cell_type": "markdown",
      "source": [
        "Instalando o SDK do Google"
      ],
      "metadata": {
        "id": "g1nC8vLVh1Cs"
      }
    },
    {
      "cell_type": "code",
      "execution_count": 19,
      "metadata": {
        "id": "p8ToaXhvgqWF"
      },
      "outputs": [],
      "source": [
        "!pip install -q -U google-generativeai"
      ]
    },
    {
      "cell_type": "code",
      "source": [
        "import google.generativeai as genai\n",
        "from google.colab import userdata\n",
        "api_key = userdata.get('SECRET_KEY')\n",
        "genai.configure(api_key=api_key)\n"
      ],
      "metadata": {
        "id": "2umYJqSciYig"
      },
      "execution_count": 33,
      "outputs": []
    },
    {
      "cell_type": "markdown",
      "source": [
        "Lista os modelos disponiveis"
      ],
      "metadata": {
        "id": "SmywwLlNjINE"
      }
    },
    {
      "cell_type": "code",
      "source": [
        "for m in genai.list_models():\n",
        "  if 'generateContent' in m.supported_generation_methods:\n",
        "    print(m.name)"
      ],
      "metadata": {
        "colab": {
          "base_uri": "https://localhost:8080/",
          "height": 138
        },
        "id": "oix5pWo6jPOu",
        "outputId": "d958cf25-f60f-4dec-f9c4-4a6c32a2a4cc"
      },
      "execution_count": 34,
      "outputs": [
        {
          "output_type": "stream",
          "name": "stdout",
          "text": [
            "models/gemini-1.0-pro\n",
            "models/gemini-1.0-pro-001\n",
            "models/gemini-1.0-pro-latest\n",
            "models/gemini-1.0-pro-vision-latest\n",
            "models/gemini-1.5-pro-latest\n",
            "models/gemini-pro\n",
            "models/gemini-pro-vision\n"
          ]
        }
      ]
    },
    {
      "cell_type": "code",
      "source": [
        "generation_config = {\n",
        "    \"candidate_count\": 1,\n",
        "    \"temperature\": 0.5,\n",
        "}"
      ],
      "metadata": {
        "id": "EGDsruRwkf2m"
      },
      "execution_count": 35,
      "outputs": []
    },
    {
      "cell_type": "code",
      "source": [
        "safety_settings ={\n",
        "    \"HARASSMENT\": \"BLOCK_NONE\",\n",
        "    \"HATE\": \"BLOCK_NONE\",\n",
        "    \"SEXUAL\": \"BLOCK_NONE\",\n",
        "    \"DANGEROUS\": \"BLOCK_NONE\",\n",
        "}"
      ],
      "metadata": {
        "id": "ksoDmMx7mNKz"
      },
      "execution_count": 36,
      "outputs": []
    },
    {
      "cell_type": "code",
      "source": [
        "model = genai.GenerativeModel(model_name='gemini-1.0-pro',\n",
        "                              generation_config=generation_config,\n",
        "                              safety_settings=safety_settings)"
      ],
      "metadata": {
        "id": "u10OWitEmye8"
      },
      "execution_count": 37,
      "outputs": []
    },
    {
      "cell_type": "code",
      "source": [
        "response = model.generate_content(\"Como construir uma api.\")\n",
        "print(response.text)"
      ],
      "metadata": {
        "colab": {
          "base_uri": "https://localhost:8080/",
          "height": 919
        },
        "id": "B2XQs3FKn3By",
        "outputId": "43af3ad5-fc8f-4521-9b40-ab625c734db9"
      },
      "execution_count": 38,
      "outputs": [
        {
          "output_type": "stream",
          "name": "stdout",
          "text": [
            "**Construindo uma API**\n",
            "\n",
            "**1. Defina o Escopo e os Objetivos**\n",
            "\n",
            "* Determine o propósito da API e os recursos que ela fornecerá.\n",
            "* Identifique os usuários-alvo e seus requisitos.\n",
            "\n",
            "**2. Escolha uma Arquitetura**\n",
            "\n",
            "* **RESTful:** Uma arquitetura sem estado baseada em HTTP.\n",
            "* **SOAP:** Uma arquitetura baseada em XML com mensagens estruturadas.\n",
            "* **GraphQL:** Uma linguagem de consulta que permite aos clientes solicitar dados específicos.\n",
            "\n",
            "**3. Projete os Endpoints**\n",
            "\n",
            "* Defina os endpoints da API e os métodos HTTP associados (GET, POST, PUT, DELETE).\n",
            "* Especifique os parâmetros de entrada e saída para cada endpoint.\n",
            "\n",
            "**4. Escolha uma Linguagem de Programação**\n",
            "\n",
            "* Selecione uma linguagem de programação adequada para o desenvolvimento da API.\n",
            "* Opções populares incluem Python, Java, Node.js e Go.\n",
            "\n",
            "**5. Crie um Framework**\n",
            "\n",
            "* Utilize um framework de API para simplificar o desenvolvimento e a manutenção.\n",
            "* Frameworks comuns incluem Django REST Framework (Python), Spring Boot (Java) e Express.js (Node.js).\n",
            "\n",
            "**6. Implemente a Lógica**\n",
            "\n",
            "* Escreva o código para implementar a lógica de negócios da API.\n",
            "* Use padrões de design e práticas recomendadas para garantir a manutenção e a escalabilidade.\n",
            "\n",
            "**7. Teste e Validação**\n",
            "\n",
            "* Crie testes unitários e de integração para verificar a funcionalidade da API.\n",
            "* Conduza testes de desempenho e segurança para garantir a confiabilidade e a proteção.\n",
            "\n",
            "**8. Documente a API**\n",
            "\n",
            "* Crie uma documentação abrangente que explique como usar a API.\n",
            "* Inclua exemplos de código, tutoriais e referências técnicas.\n",
            "\n",
            "**9. Implante e Monitore**\n",
            "\n",
            "* Implante a API em um ambiente de produção.\n",
            "* Monitore o desempenho e a utilização da API para identificar e resolver problemas.\n",
            "\n",
            "**10. Manutenção e Atualizações**\n",
            "\n",
            "* Mantenha a API atualizada com correções de bugs e novos recursos.\n",
            "* Monitore o feedback do usuário e faça ajustes conforme necessário.\n"
          ]
        }
      ]
    },
    {
      "cell_type": "code",
      "source": [
        "chat = model.start_chat(history=[])"
      ],
      "metadata": {
        "id": "Y73xTlBXwGHS"
      },
      "execution_count": 39,
      "outputs": []
    },
    {
      "cell_type": "code",
      "source": [
        "prompt = input(\"Esperando prompt: \")\n",
        "\n",
        "while prompt != \"fim\":\n",
        "  response = chat.send_message(prompt)\n",
        "  print(\"Resposta: \", response.text, \"\\n\")\n",
        "  prompt = input(\"Esperando prompt: \")"
      ],
      "metadata": {
        "colab": {
          "base_uri": "https://localhost:8080/",
          "height": 627
        },
        "id": "FCkxJSYnwQ28",
        "outputId": "10e6c085-c7f8-4c05-b110-747d97a02576"
      },
      "execution_count": 40,
      "outputs": [
        {
          "name": "stdout",
          "output_type": "stream",
          "text": [
            "Esperando prompt: oque é uma API\n",
            "Resposta:  **API (Interface de Programação de Aplicação)**\n",
            "\n",
            "Uma API é um conjunto de protocolos, rotinas e ferramentas que permitem que duas aplicações de software se comuniquem entre si. Ela define como as aplicações interagem, os dados que podem trocar e as operações que podem realizar.\n",
            "\n",
            "**Como funciona uma API:**\n",
            "\n",
            "* Uma aplicação (**cliente**) envia uma solicitação para uma outra aplicação (**servidor**) por meio da API.\n",
            "* A API processa a solicitação e retorna uma resposta ao cliente.\n",
            "* A resposta pode conter dados, erros ou outras informações.\n",
            "\n",
            "**Tipos de APIs:**\n",
            "\n",
            "* **REST (Transferência de Estado Representacional):** Usa verbos HTTP (GET, POST, PUT, DELETE) para interagir com recursos.\n",
            "* **SOAP (Protocolo de Acesso a Objetos Simples):** Usa XML para enviar e receber mensagens.\n",
            "* **gRPC (RPC Genérico):** Usa protocolos binários eficientes para comunicação.\n",
            "* **GraphQL:** Permite que os clientes solicitem dados específicos em uma única solicitação.\n",
            "\n",
            "**Benefícios de usar APIs:**\n",
            "\n",
            "* **Reutilização de código:** As APIs permitem que os desenvolvedores reutilicem código entre diferentes aplicações.\n",
            "* **Integração de sistemas:** As APIs facilitam a integração de diferentes sistemas e aplicações.\n",
            "* **Acesso a dados e serviços:** As APIs fornecem acesso a dados e serviços de outras aplicações.\n",
            "* **Melhoria da experiência do usuário:** As APIs podem melhorar a experiência do usuário ao fornecer acesso a recursos e funcionalidades adicionais.\n",
            "* **Escalabilidade:** As APIs podem ajudar a escalar aplicações ao distribuir a carga de trabalho entre vários serviços.\n",
            "\n",
            "**Exemplos de APIs:**\n",
            "\n",
            "* **APIs de mídia social:** Permitem que os aplicativos acessem dados de redes sociais (por exemplo, Facebook API, Twitter API).\n",
            "* **APIs de pagamento:** Permitem que os aplicativos processem pagamentos (por exemplo, Stripe API, PayPal API).\n",
            "* **APIs de mapas:** Permitem que os aplicativos exibam mapas e obtenham informações de localização (por exemplo, Google Maps API, OpenStreetMap API).\n",
            "* **APIs de tradução:** Permitem que os aplicativos traduzam textos entre diferentes idiomas (por exemplo, Google Translate API, Microsoft Translator API). \n",
            "\n",
            "Esperando prompt: fim\n"
          ]
        }
      ]
    }
  ]
}